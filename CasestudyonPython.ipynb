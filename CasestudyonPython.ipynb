{
 "cells": [
  {
   "cell_type": "markdown",
   "id": "21759922-5771-4869-92ed-0e8c14dee478",
   "metadata": {},
   "source": [
    "1. Write program to compute L2 norm or magnitude of a numeric vector"
   ]
  },
  {
   "cell_type": "code",
   "execution_count": 11,
   "id": "0f32cbc8-0ec5-4024-a8e1-2f64bc8b9905",
   "metadata": {},
   "outputs": [
    {
     "name": "stdin",
     "output_type": "stream",
     "text": [
      "Enter the vector components separated by spaces:  3 4\n"
     ]
    },
    {
     "name": "stdout",
     "output_type": "stream",
     "text": [
      "The magnitude(L2 norm of the vector [3.0, 4.0] is: 5.00\n"
     ]
    }
   ],
   "source": [
    "import math\n",
    "\n",
    "def compute_l2_norm(vector):\n",
    "    return math.sqrt(sum(x**2 for x in vector))\n",
    "\n",
    "# Input from the user\n",
    "vector_input = input(\"Enter the vector components separated by spaces: \")\n",
    "vector = list(map(float, vector_input.split()))\n",
    "\n",
    "# Compute the magnitude\n",
    "magnitude = compute_l2_norm(vector)\n",
    "\n",
    "print(f\"The magnitude L2 norm of the vector {vector} is: {magnitude:.2f}\")\n"
   ]
  },
  {
   "cell_type": "markdown",
   "id": "792445e7-bd9d-44ed-a47a-df3c0c81be30",
   "metadata": {},
   "source": [
    "2. Write program to check whether given two vectors of equal length are orthogonal to each other\n",
    "\t- Input: Two numeric vectors of equal length\n",
    "\t- Output: True or False"
   ]
  },
  {
   "cell_type": "code",
   "execution_count": 48,
   "id": "4cd638bc-aeca-4dd3-874f-b92247ed2669",
   "metadata": {},
   "outputs": [
    {
     "name": "stdin",
     "output_type": "stream",
     "text": [
      "Enter the first vector components separated by spaces:  0 1\n",
      "Enter the second vector components separated by spaces:  1 0\n"
     ]
    },
    {
     "name": "stdout",
     "output_type": "stream",
     "text": [
      "Are the vectors [0.0, 1.0] and [1.0, 0.0] orthogonal? True\n"
     ]
    }
   ],
   "source": [
    "import numpy as np\n",
    "\n",
    "def are_orthogonal(vector1, vector2):\n",
    "    vector1 = np.array(vector1)\n",
    "    vector2 = np.array(vector2)\n",
    "    dot_product = np.dot(vector1, vector2)\n",
    "    return dot_product == 0\n",
    "try:\n",
    "    vector1 = list(map(float, input(\"Enter the first vector components separated by spaces: \").split()))\n",
    "    vector2 = list(map(float, input(\"Enter the second vector components separated by spaces: \").split()))\n",
    "    \n",
    "    if len(vector1) != len(vector2):\n",
    "        print(\"Error: Vectors must have the same length.\")\n",
    "    else:\n",
    "        result = are_orthogonal(vector1, vector2)\n",
    "        print(f\"Are the vectors {vector1} and {vector2} orthogonal? {result}\")\n",
    "except ValueError:\n",
    "    print(\"Error: Please enter valid numeric inputs.\")\n",
    "\n",
    "\n"
   ]
  },
  {
   "cell_type": "markdown",
   "id": "583a5431-c22c-498f-8dea-7f26d454c24b",
   "metadata": {},
   "source": [
    "3. Write a function to compute median value of a list of numbers\n",
    "\t- Input: List of numbers as input\n",
    "\t- Output: Median value\n"
   ]
  },
  {
   "cell_type": "code",
   "execution_count": 63,
   "id": "99dad0f9-a5b3-4f20-af89-e4260977461c",
   "metadata": {},
   "outputs": [
    {
     "name": "stdin",
     "output_type": "stream",
     "text": [
      "Enter numbers separated by spaces:  1 2 3 4 5 6 7 8 9 10 \n"
     ]
    },
    {
     "name": "stdout",
     "output_type": "stream",
     "text": [
      "The median is: 5.5\n"
     ]
    }
   ],
   "source": [
    "def compute_median(numbers):\n",
    "    numbers = sorted(numbers)\n",
    "    n = len(numbers)\n",
    "    middle = n // 2\n",
    "    if n % 2 == 1:\n",
    "       \n",
    "        return numbers[middle]\n",
    "    else:\n",
    "       \n",
    "        return (numbers[middle - 1] + numbers[middle]) / 2\n",
    "\n",
    "numbers = list(map(float, input(\"Enter numbers separated by spaces: \").split()))\n",
    "median = compute_median(numbers)\n",
    "print(f\"The median is: {median}\")\n"
   ]
  },
  {
   "cell_type": "markdown",
   "id": "2e5a2ca1-3590-4123-abbb-fb1711db5300",
   "metadata": {},
   "source": [
    "4. Write program to multiply a row vector (List) with a matrix (2D List). You can assume that the dimension of row vector is sample as number of columns in matrix"
   ]
  },
  {
   "cell_type": "code",
   "execution_count": 85,
   "id": "1b300642-6207-4bd3-b701-9e0af5e85dea",
   "metadata": {
    "scrolled": true
   },
   "outputs": [
    {
     "name": "stdout",
     "output_type": "stream",
     "text": [
      "Enter the row vector (space-separated):\n"
     ]
    },
    {
     "name": "stdin",
     "output_type": "stream",
     "text": [
      " 3 4\n"
     ]
    },
    {
     "name": "stdout",
     "output_type": "stream",
     "text": [
      "Enter the number of rows and columns for the matrix:\n"
     ]
    },
    {
     "name": "stdin",
     "output_type": "stream",
     "text": [
      " 2 2\n"
     ]
    },
    {
     "name": "stdout",
     "output_type": "stream",
     "text": [
      "Enter the 2x2 matrix row by row (space-separated):\n"
     ]
    },
    {
     "name": "stdin",
     "output_type": "stream",
     "text": [
      " 1 2 3 4\n",
      " 1 3 4 5\n"
     ]
    },
    {
     "name": "stdout",
     "output_type": "stream",
     "text": [
      "The resulting vector is: [7.0, 18.0, 25.0, 32.0]\n"
     ]
    }
   ],
   "source": [
    "import numpy as np\n",
    "\n",
    "def multiply_row_vector_with_matrix(row_vector, matrix):\n",
    "    return np.dot(row_vector, matrix)\n",
    "print(\"Enter the row vector (space-separated):\")\n",
    "row_vector = np.array(list(map(float, input().split())))\n",
    "\n",
    "print(\"Enter the number of rows and columns for the matrix:\")\n",
    "rows, cols = map(int, input().split())\n",
    "\n",
    "print(f\"Enter the {rows}x{cols} matrix row by row (space-separated):\")\n",
    "matrix = np.array([list(map(float, input().split())) for _ in range(rows)])\n",
    "\n",
    "if len(row_vector) != cols:\n",
    "    print(\"Error: The length of the row vector must match the number of columns in the matrix.\")\n",
    "else:\n",
    "    result = multiply_row_vector_with_matrix(row_vector, matrix)\n",
    "    print(\"The resulting vector is:\", result.tolist())\n"
   ]
  },
  {
   "cell_type": "markdown",
   "id": "c04f7145-3c43-451a-a360-b42baef323fd",
   "metadata": {},
   "source": [
    "5. Write function to compute z-score from given values such as x, mean(x), and std(x)\n",
    " \t- Input: x, mean(x), and std(x)\n",
    " \t- Output: output z-score\n"
   ]
  },
  {
   "cell_type": "code",
   "execution_count": 80,
   "id": "67dc9eee-7073-4b8a-87d9-91a7aeb06cfa",
   "metadata": {
    "scrolled": true
   },
   "outputs": [
    {
     "name": "stdout",
     "output_type": "stream",
     "text": [
      "Enter the dataset values separated by spaces:\n"
     ]
    },
    {
     "name": "stdin",
     "output_type": "stream",
     "text": [
      " 2 3 4 5 67 \n"
     ]
    },
    {
     "name": "stdout",
     "output_type": "stream",
     "text": [
      "Mean of the dataset: 16.2\n",
      "Standard deviation of the dataset: 25.419677417308034\n",
      "Z-scores for the dataset:\n",
      "[-0.5586223525531975, -0.5192827502607187, -0.47994314796824006, -0.4406035456757613, 1.9984517964579176]\n"
     ]
    }
   ],
   "source": [
    "import numpy as np\n",
    "\n",
    "def compute_z_scores(dataset):\n",
    "    mean = np.mean(dataset)\n",
    "    std = np.std(dataset)\n",
    "    if std == 0:\n",
    "        raise ValueError(\"Standard deviation cannot be zero.\")\n",
    "    z_scores = [(x - mean) / std for x in dataset]\n",
    "    return mean, std, z_scores\n",
    "    \n",
    "print(\"Enter the dataset values separated by spaces:\")\n",
    "data = list(map(float, input().split()))\n",
    "\n",
    "try:\n",
    "    mean, std, z_scores = compute_z_scores(data)\n",
    "    print(f\"Mean of the dataset: {mean}\")\n",
    "    print(f\"Standard deviation of the dataset: {std}\")\n",
    "    print(\"Z-scores for the dataset:\")\n",
    "    print(z_scores)\n",
    "except ValueError as e:\n",
    "    print(e)\n"
   ]
  },
  {
   "cell_type": "code",
   "execution_count": null,
   "id": "a45e9c93-5656-48ef-80b4-392dd30f2373",
   "metadata": {},
   "outputs": [],
   "source": []
  }
 ],
 "metadata": {
  "kernelspec": {
   "display_name": "Python 3 (ipykernel)",
   "language": "python",
   "name": "python3"
  },
  "language_info": {
   "codemirror_mode": {
    "name": "ipython",
    "version": 3
   },
   "file_extension": ".py",
   "mimetype": "text/x-python",
   "name": "python",
   "nbconvert_exporter": "python",
   "pygments_lexer": "ipython3",
   "version": "3.12.4"
  }
 },
 "nbformat": 4,
 "nbformat_minor": 5
}
