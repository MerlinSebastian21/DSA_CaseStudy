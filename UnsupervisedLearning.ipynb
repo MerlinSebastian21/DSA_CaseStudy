{
 "cells": [
  {
   "cell_type": "code",
   "execution_count": 1,
   "id": "8abffe3c-def5-4a73-8979-bb624a8bad4a",
   "metadata": {},
   "outputs": [],
   "source": [
    "import pandas as pd"
   ]
  },
  {
   "cell_type": "code",
   "execution_count": 2,
   "id": "3efdd2ee-9b83-40b9-b0dc-b4baa6a7b415",
   "metadata": {},
   "outputs": [],
   "source": [
    "df = pd.read_csv(\"force2020_data.csv\")"
   ]
  },
  {
   "cell_type": "code",
   "execution_count": 3,
   "id": "eca29e91-d93c-4fc0-9b77-a9b16097c364",
   "metadata": {},
   "outputs": [
    {
     "data": {
      "text/html": [
       "<div>\n",
       "<style scoped>\n",
       "    .dataframe tbody tr th:only-of-type {\n",
       "        vertical-align: middle;\n",
       "    }\n",
       "\n",
       "    .dataframe tbody tr th {\n",
       "        vertical-align: top;\n",
       "    }\n",
       "\n",
       "    .dataframe thead th {\n",
       "        text-align: right;\n",
       "    }\n",
       "</style>\n",
       "<table border=\"1\" class=\"dataframe\">\n",
       "  <thead>\n",
       "    <tr style=\"text-align: right;\">\n",
       "      <th></th>\n",
       "      <th>RHOB</th>\n",
       "      <th>GR</th>\n",
       "      <th>DEPTH_MD</th>\n",
       "      <th>NPHI</th>\n",
       "      <th>PEF</th>\n",
       "      <th>DTC</th>\n",
       "    </tr>\n",
       "  </thead>\n",
       "  <tbody>\n",
       "    <tr>\n",
       "      <th>0</th>\n",
       "      <td>1.884186</td>\n",
       "      <td>80.200851</td>\n",
       "      <td>494.528</td>\n",
       "      <td>NaN</td>\n",
       "      <td>20.915468</td>\n",
       "      <td>161.131180</td>\n",
       "    </tr>\n",
       "    <tr>\n",
       "      <th>1</th>\n",
       "      <td>1.889794</td>\n",
       "      <td>79.262886</td>\n",
       "      <td>494.680</td>\n",
       "      <td>NaN</td>\n",
       "      <td>19.383013</td>\n",
       "      <td>160.603470</td>\n",
       "    </tr>\n",
       "    <tr>\n",
       "      <th>2</th>\n",
       "      <td>1.896523</td>\n",
       "      <td>74.821999</td>\n",
       "      <td>494.832</td>\n",
       "      <td>NaN</td>\n",
       "      <td>22.591518</td>\n",
       "      <td>160.173615</td>\n",
       "    </tr>\n",
       "    <tr>\n",
       "      <th>3</th>\n",
       "      <td>1.891913</td>\n",
       "      <td>72.878922</td>\n",
       "      <td>494.984</td>\n",
       "      <td>NaN</td>\n",
       "      <td>32.191910</td>\n",
       "      <td>160.149429</td>\n",
       "    </tr>\n",
       "    <tr>\n",
       "      <th>4</th>\n",
       "      <td>1.880034</td>\n",
       "      <td>71.729141</td>\n",
       "      <td>495.136</td>\n",
       "      <td>NaN</td>\n",
       "      <td>38.495632</td>\n",
       "      <td>160.128342</td>\n",
       "    </tr>\n",
       "    <tr>\n",
       "      <th>...</th>\n",
       "      <td>...</td>\n",
       "      <td>...</td>\n",
       "      <td>...</td>\n",
       "      <td>...</td>\n",
       "      <td>...</td>\n",
       "      <td>...</td>\n",
       "    </tr>\n",
       "    <tr>\n",
       "      <th>18265</th>\n",
       "      <td>2.630211</td>\n",
       "      <td>19.418915</td>\n",
       "      <td>3271.416</td>\n",
       "      <td>0.187811</td>\n",
       "      <td>NaN</td>\n",
       "      <td>NaN</td>\n",
       "    </tr>\n",
       "    <tr>\n",
       "      <th>18266</th>\n",
       "      <td>2.643114</td>\n",
       "      <td>21.444370</td>\n",
       "      <td>3271.568</td>\n",
       "      <td>0.185574</td>\n",
       "      <td>NaN</td>\n",
       "      <td>NaN</td>\n",
       "    </tr>\n",
       "    <tr>\n",
       "      <th>18267</th>\n",
       "      <td>2.681300</td>\n",
       "      <td>22.646879</td>\n",
       "      <td>3271.720</td>\n",
       "      <td>0.176074</td>\n",
       "      <td>NaN</td>\n",
       "      <td>NaN</td>\n",
       "    </tr>\n",
       "    <tr>\n",
       "      <th>18268</th>\n",
       "      <td>2.738337</td>\n",
       "      <td>22.253584</td>\n",
       "      <td>3271.872</td>\n",
       "      <td>0.174617</td>\n",
       "      <td>NaN</td>\n",
       "      <td>NaN</td>\n",
       "    </tr>\n",
       "    <tr>\n",
       "      <th>18269</th>\n",
       "      <td>2.792922</td>\n",
       "      <td>19.829920</td>\n",
       "      <td>3272.024</td>\n",
       "      <td>0.176627</td>\n",
       "      <td>NaN</td>\n",
       "      <td>NaN</td>\n",
       "    </tr>\n",
       "  </tbody>\n",
       "</table>\n",
       "<p>18270 rows × 6 columns</p>\n",
       "</div>"
      ],
      "text/plain": [
       "           RHOB         GR  DEPTH_MD      NPHI        PEF         DTC\n",
       "0      1.884186  80.200851   494.528       NaN  20.915468  161.131180\n",
       "1      1.889794  79.262886   494.680       NaN  19.383013  160.603470\n",
       "2      1.896523  74.821999   494.832       NaN  22.591518  160.173615\n",
       "3      1.891913  72.878922   494.984       NaN  32.191910  160.149429\n",
       "4      1.880034  71.729141   495.136       NaN  38.495632  160.128342\n",
       "...         ...        ...       ...       ...        ...         ...\n",
       "18265  2.630211  19.418915  3271.416  0.187811        NaN         NaN\n",
       "18266  2.643114  21.444370  3271.568  0.185574        NaN         NaN\n",
       "18267  2.681300  22.646879  3271.720  0.176074        NaN         NaN\n",
       "18268  2.738337  22.253584  3271.872  0.174617        NaN         NaN\n",
       "18269  2.792922  19.829920  3272.024  0.176627        NaN         NaN\n",
       "\n",
       "[18270 rows x 6 columns]"
      ]
     },
     "execution_count": 3,
     "metadata": {},
     "output_type": "execute_result"
    }
   ],
   "source": [
    "df"
   ]
  },
  {
   "cell_type": "code",
   "execution_count": 4,
   "id": "34f8cbb9-a452-4b65-9207-3d7ba859837d",
   "metadata": {},
   "outputs": [
    {
     "data": {
      "text/plain": [
       "0"
      ]
     },
     "execution_count": 4,
     "metadata": {},
     "output_type": "execute_result"
    }
   ],
   "source": [
    "df.columns.duplicated().sum()"
   ]
  },
  {
   "cell_type": "code",
   "execution_count": 5,
   "id": "0b1993f3-22c9-46c1-a8c7-6a592b55c626",
   "metadata": {},
   "outputs": [
    {
     "data": {
      "text/plain": [
       "RHOB           0\n",
       "GR             0\n",
       "DEPTH_MD       0\n",
       "NPHI        4238\n",
       "PEF         1830\n",
       "DTC           81\n",
       "dtype: int64"
      ]
     },
     "execution_count": 5,
     "metadata": {},
     "output_type": "execute_result"
    }
   ],
   "source": [
    "df.isna().sum()"
   ]
  },
  {
   "cell_type": "code",
   "execution_count": 6,
   "id": "20415c02-2b5f-4c58-97a2-bb06a09afc2b",
   "metadata": {},
   "outputs": [],
   "source": [
    "import matplotlib.pyplot as plt"
   ]
  },
  {
   "cell_type": "code",
   "execution_count": 7,
   "id": "0edc0d13-fc4e-41ad-9766-28deb04dc78d",
   "metadata": {},
   "outputs": [
    {
     "data": {
      "image/png": "[encoded data removed]",
      "text/plain": [
       "<Figure size 640x480 with 1 Axes>"
      ]
     },
     "metadata": {},
     "output_type": "display_data"
    }
   ],
   "source": [
    "plt.hist(df['NPHI'])\n",
    "plt.show()"
   ]
  },
  {
   "cell_type": "code",
   "execution_count": 13,
   "id": "00a8fe6a-fc04-4fee-8fba-878b6e396560",
   "metadata": {},
   "outputs": [
    {
     "data": {
      "text/plain": [
       "0        0.448527\n",
       "1        0.448527\n",
       "2        0.448527\n",
       "3        0.448527\n",
       "4        0.448527\n",
       "           ...   \n",
       "18265    0.187811\n",
       "18266    0.185574\n",
       "18267    0.176074\n",
       "18268    0.174617\n",
       "18269    0.176627\n",
       "Name: NPHI, Length: 18270, dtype: float64"
      ]
     },
     "execution_count": 13,
     "metadata": {},
     "output_type": "execute_result"
    }
   ],
   "source": [
    "df['NPHI'] = df['NPHI'].fillna(df['NPHI'].median())\n",
    "df['NPHI']"
   ]
  },
  {
   "cell_type": "code",
   "execution_count": 14,
   "id": "cfb1d226-958e-409f-8cf6-a139924219d6",
   "metadata": {},
   "outputs": [
    {
     "data": {
      "text/plain": [
       "0"
      ]
     },
     "execution_count": 14,
     "metadata": {},
     "output_type": "execute_result"
    }
   ],
   "source": [
    "df['NPHI'].isna().sum()"
   ]
  },
  {
   "cell_type": "code",
   "execution_count": 15,
   "id": "50139864-8494-41fb-8bea-7ec698c44dcc",
   "metadata": {},
   "outputs": [
    {
     "data": {
      "image/png": "[encoded data removed]",
      "text/plain": [
       "<Figure size 640x480 with 1 Axes>"
      ]
     },
     "metadata": {},
     "output_type": "display_data"
    }
   ],
   "source": [
    "plt.hist(df['PEF'])\n",
    "plt.show()"
   ]
  },
  {
   "cell_type": "code",
   "execution_count": 16,
   "id": "a00fb7b3-c782-4e93-a81e-17cb8968d3aa",
   "metadata": {},
   "outputs": [
    {
     "data": {
      "image/png": "[encoded data removed]",
      "text/plain": [
       "<Figure size 640x480 with 1 Axes>"
      ]
     },
     "metadata": {},
     "output_type": "display_data"
    }
   ],
   "source": [
    "plt.hist(df['DTC'])\n",
    "plt.show()"
   ]
  },
  {
   "cell_type": "code",
   "execution_count": 17,
   "id": "1d5877a9-9eb2-4ccf-83d8-d043b61ae82a",
   "metadata": {},
   "outputs": [
    {
     "data": {
      "text/html": [
       "<div>\n",
       "<style scoped>\n",
       "    .dataframe tbody tr th:only-of-type {\n",
       "        vertical-align: middle;\n",
       "    }\n",
       "\n",
       "    .dataframe tbody tr th {\n",
       "        vertical-align: top;\n",
       "    }\n",
       "\n",
       "    .dataframe thead th {\n",
       "        text-align: right;\n",
       "    }\n",
       "</style>\n",
       "<table border=\"1\" class=\"dataframe\">\n",
       "  <thead>\n",
       "    <tr style=\"text-align: right;\">\n",
       "      <th></th>\n",
       "      <th>RHOB</th>\n",
       "      <th>GR</th>\n",
       "      <th>DEPTH_MD</th>\n",
       "      <th>NPHI</th>\n",
       "      <th>PEF</th>\n",
       "      <th>DTC</th>\n",
       "    </tr>\n",
       "  </thead>\n",
       "  <tbody>\n",
       "    <tr>\n",
       "      <th>0</th>\n",
       "      <td>1.884186</td>\n",
       "      <td>80.200851</td>\n",
       "      <td>494.528</td>\n",
       "      <td>0.448527</td>\n",
       "      <td>20.915468</td>\n",
       "      <td>161.131180</td>\n",
       "    </tr>\n",
       "    <tr>\n",
       "      <th>1</th>\n",
       "      <td>1.889794</td>\n",
       "      <td>79.262886</td>\n",
       "      <td>494.680</td>\n",
       "      <td>0.448527</td>\n",
       "      <td>19.383013</td>\n",
       "      <td>160.603470</td>\n",
       "    </tr>\n",
       "    <tr>\n",
       "      <th>2</th>\n",
       "      <td>1.896523</td>\n",
       "      <td>74.821999</td>\n",
       "      <td>494.832</td>\n",
       "      <td>0.448527</td>\n",
       "      <td>22.591518</td>\n",
       "      <td>160.173615</td>\n",
       "    </tr>\n",
       "    <tr>\n",
       "      <th>3</th>\n",
       "      <td>1.891913</td>\n",
       "      <td>72.878922</td>\n",
       "      <td>494.984</td>\n",
       "      <td>0.448527</td>\n",
       "      <td>32.191910</td>\n",
       "      <td>160.149429</td>\n",
       "    </tr>\n",
       "    <tr>\n",
       "      <th>4</th>\n",
       "      <td>1.880034</td>\n",
       "      <td>71.729141</td>\n",
       "      <td>495.136</td>\n",
       "      <td>0.448527</td>\n",
       "      <td>38.495632</td>\n",
       "      <td>160.128342</td>\n",
       "    </tr>\n",
       "    <tr>\n",
       "      <th>...</th>\n",
       "      <td>...</td>\n",
       "      <td>...</td>\n",
       "      <td>...</td>\n",
       "      <td>...</td>\n",
       "      <td>...</td>\n",
       "      <td>...</td>\n",
       "    </tr>\n",
       "    <tr>\n",
       "      <th>18265</th>\n",
       "      <td>2.630211</td>\n",
       "      <td>19.418915</td>\n",
       "      <td>3271.416</td>\n",
       "      <td>0.187811</td>\n",
       "      <td>2.790249</td>\n",
       "      <td>141.300461</td>\n",
       "    </tr>\n",
       "    <tr>\n",
       "      <th>18266</th>\n",
       "      <td>2.643114</td>\n",
       "      <td>21.444370</td>\n",
       "      <td>3271.568</td>\n",
       "      <td>0.185574</td>\n",
       "      <td>2.790249</td>\n",
       "      <td>141.300461</td>\n",
       "    </tr>\n",
       "    <tr>\n",
       "      <th>18267</th>\n",
       "      <td>2.681300</td>\n",
       "      <td>22.646879</td>\n",
       "      <td>3271.720</td>\n",
       "      <td>0.176074</td>\n",
       "      <td>2.790249</td>\n",
       "      <td>141.300461</td>\n",
       "    </tr>\n",
       "    <tr>\n",
       "      <th>18268</th>\n",
       "      <td>2.738337</td>\n",
       "      <td>22.253584</td>\n",
       "      <td>3271.872</td>\n",
       "      <td>0.174617</td>\n",
       "      <td>2.790249</td>\n",
       "      <td>141.300461</td>\n",
       "    </tr>\n",
       "    <tr>\n",
       "      <th>18269</th>\n",
       "      <td>2.792922</td>\n",
       "      <td>19.829920</td>\n",
       "      <td>3272.024</td>\n",
       "      <td>0.176627</td>\n",
       "      <td>2.790249</td>\n",
       "      <td>141.300461</td>\n",
       "    </tr>\n",
       "  </tbody>\n",
       "</table>\n",
       "<p>18270 rows × 6 columns</p>\n",
       "</div>"
      ],
      "text/plain": [
       "           RHOB         GR  DEPTH_MD      NPHI        PEF         DTC\n",
       "0      1.884186  80.200851   494.528  0.448527  20.915468  161.131180\n",
       "1      1.889794  79.262886   494.680  0.448527  19.383013  160.603470\n",
       "2      1.896523  74.821999   494.832  0.448527  22.591518  160.173615\n",
       "3      1.891913  72.878922   494.984  0.448527  32.191910  160.149429\n",
       "4      1.880034  71.729141   495.136  0.448527  38.495632  160.128342\n",
       "...         ...        ...       ...       ...        ...         ...\n",
       "18265  2.630211  19.418915  3271.416  0.187811   2.790249  141.300461\n",
       "18266  2.643114  21.444370  3271.568  0.185574   2.790249  141.300461\n",
       "18267  2.681300  22.646879  3271.720  0.176074   2.790249  141.300461\n",
       "18268  2.738337  22.253584  3271.872  0.174617   2.790249  141.300461\n",
       "18269  2.792922  19.829920  3272.024  0.176627   2.790249  141.300461\n",
       "\n",
       "[18270 rows x 6 columns]"
      ]
     },
     "execution_count": 17,
     "metadata": {},
     "output_type": "execute_result"
    }
   ],
   "source": [
    "df = df.fillna(df.median())\n",
    "df"
   ]
  },
  {
   "cell_type": "code",
   "execution_count": 19,
   "id": "24b9c20b-c11e-4af9-97c9-a6adb7cbe882",
   "metadata": {},
   "outputs": [
    {
     "data": {
      "text/plain": [
       "RHOB        0\n",
       "GR          0\n",
       "DEPTH_MD    0\n",
       "NPHI        0\n",
       "PEF         0\n",
       "DTC         0\n",
       "dtype: int64"
      ]
     },
     "execution_count": 19,
     "metadata": {},
     "output_type": "execute_result"
    }
   ],
   "source": [
    "df.isna().sum()"
   ]
  },
  {
   "cell_type": "code",
   "execution_count": 20,
   "id": "82454258-a5c2-46a5-b62e-54de59a9c36d",
   "metadata": {},
   "outputs": [
    {
     "data": {
      "text/html": [
       "<div>\n",
       "<style scoped>\n",
       "    .dataframe tbody tr th:only-of-type {\n",
       "        vertical-align: middle;\n",
       "    }\n",
       "\n",
       "    .dataframe tbody tr th {\n",
       "        vertical-align: top;\n",
       "    }\n",
       "\n",
       "    .dataframe thead th {\n",
       "        text-align: right;\n",
       "    }\n",
       "</style>\n",
       "<table border=\"1\" class=\"dataframe\">\n",
       "  <thead>\n",
       "    <tr style=\"text-align: right;\">\n",
       "      <th></th>\n",
       "      <th>RHOB</th>\n",
       "      <th>GR</th>\n",
       "      <th>DEPTH_MD</th>\n",
       "      <th>NPHI</th>\n",
       "      <th>PEF</th>\n",
       "      <th>DTC</th>\n",
       "    </tr>\n",
       "  </thead>\n",
       "  <tbody>\n",
       "    <tr>\n",
       "      <th>count</th>\n",
       "      <td>18270.000000</td>\n",
       "      <td>18270.000000</td>\n",
       "      <td>18270.000000</td>\n",
       "      <td>18270.000000</td>\n",
       "      <td>18270.000000</td>\n",
       "      <td>18270.000000</td>\n",
       "    </tr>\n",
       "    <tr>\n",
       "      <th>mean</th>\n",
       "      <td>2.110451</td>\n",
       "      <td>63.847477</td>\n",
       "      <td>1883.228478</td>\n",
       "      <td>0.414749</td>\n",
       "      <td>3.396380</td>\n",
       "      <td>125.177975</td>\n",
       "    </tr>\n",
       "    <tr>\n",
       "      <th>std</th>\n",
       "      <td>0.297725</td>\n",
       "      <td>28.636331</td>\n",
       "      <td>801.941195</td>\n",
       "      <td>0.118486</td>\n",
       "      <td>2.437978</td>\n",
       "      <td>30.569325</td>\n",
       "    </tr>\n",
       "    <tr>\n",
       "      <th>min</th>\n",
       "      <td>1.404576</td>\n",
       "      <td>6.191506</td>\n",
       "      <td>494.528000</td>\n",
       "      <td>0.024330</td>\n",
       "      <td>1.010027</td>\n",
       "      <td>55.726753</td>\n",
       "    </tr>\n",
       "    <tr>\n",
       "      <th>25%</th>\n",
       "      <td>1.963399</td>\n",
       "      <td>43.866690</td>\n",
       "      <td>1188.750000</td>\n",
       "      <td>0.344193</td>\n",
       "      <td>2.355565</td>\n",
       "      <td>90.948286</td>\n",
       "    </tr>\n",
       "    <tr>\n",
       "      <th>50%</th>\n",
       "      <td>2.055079</td>\n",
       "      <td>66.777851</td>\n",
       "      <td>1882.972000</td>\n",
       "      <td>0.448527</td>\n",
       "      <td>2.790249</td>\n",
       "      <td>141.300461</td>\n",
       "    </tr>\n",
       "    <tr>\n",
       "      <th>75%</th>\n",
       "      <td>2.381963</td>\n",
       "      <td>81.542681</td>\n",
       "      <td>2577.802000</td>\n",
       "      <td>0.491632</td>\n",
       "      <td>4.046910</td>\n",
       "      <td>148.012402</td>\n",
       "    </tr>\n",
       "    <tr>\n",
       "      <th>max</th>\n",
       "      <td>2.927888</td>\n",
       "      <td>499.022583</td>\n",
       "      <td>3272.024000</td>\n",
       "      <td>0.800262</td>\n",
       "      <td>66.030319</td>\n",
       "      <td>175.953140</td>\n",
       "    </tr>\n",
       "  </tbody>\n",
       "</table>\n",
       "</div>"
      ],
      "text/plain": [
       "               RHOB            GR      DEPTH_MD          NPHI           PEF  \\\n",
       "count  18270.000000  18270.000000  18270.000000  18270.000000  18270.000000   \n",
       "mean       2.110451     63.847477   1883.228478      0.414749      3.396380   \n",
       "std        0.297725     28.636331    801.941195      0.118486      2.437978   \n",
       "min        1.404576      6.191506    494.528000      0.024330      1.010027   \n",
       "25%        1.963399     43.866690   1188.750000      0.344193      2.355565   \n",
       "50%        2.055079     66.777851   1882.972000      0.448527      2.790249   \n",
       "75%        2.381963     81.542681   2577.802000      0.491632      4.046910   \n",
       "max        2.927888    499.022583   3272.024000      0.800262     66.030319   \n",
       "\n",
       "                DTC  \n",
       "count  18270.000000  \n",
       "mean     125.177975  \n",
       "std       30.569325  \n",
       "min       55.726753  \n",
       "25%       90.948286  \n",
       "50%      141.300461  \n",
       "75%      148.012402  \n",
       "max      175.953140  "
      ]
     },
     "execution_count": 20,
     "metadata": {},
     "output_type": "execute_result"
    }
   ],
   "source": [
    "df.describe()"
   ]
  },
  {
   "cell_type": "markdown",
   "id": "3a0b849a-2097-4d76-ab3c-bf5fc1962fbd",
   "metadata": {},
   "source": [
    "## Outliers "
   ]
  },
  {
   "cell_type": "code",
   "execution_count": 27,
   "id": "40e5f8b0-f802-43c0-83e8-f1e2a43ba039",
   "metadata": {},
   "outputs": [
    {
     "data": {
      "image/png": "[encoded data removed]",
      "text/plain": [
       "<Figure size 640x480 with 1 Axes>"
      ]
     },
     "metadata": {},
     "output_type": "display_data"
    }
   ],
   "source": [
    "df.boxplot()\n",
    "plt.show()"
   ]
  },
  {
   "cell_type": "code",
   "execution_count": 32,
   "id": "32dedaf8-7797-4f92-8ad7-7bd9ced2767e",
   "metadata": {},
   "outputs": [],
   "source": [
    "def remove_outliers(df,column_name):\n",
    "    q1 = df[column_name].quantile(0.25)\n",
    "    q3 = df[column_name].quantile(0.75)\n",
    "    iqr = q3-q1\n",
    "    upper_bound = q3+1.5*iqr\n",
    "    lower_bound = q1-1.5*iqr\n",
    "    df[column_name] = df[column_name].clip(upper=upper_bound)\n",
    "    df[column_name] = df[column_name].clip(lower=lower_bound)\n",
    "    return df[column_name]"
   ]
  },
  {
   "cell_type": "code",
   "execution_count": 34,
   "id": "be2eb62a-f1fc-4309-8926-3053a34eb5e2",
   "metadata": {},
   "outputs": [],
   "source": [
    "for col in df:\n",
    "    df[col] = remove_outliers(df,col)"
   ]
  },
  {
   "cell_type": "code",
   "execution_count": 36,
   "id": "28f6ab1d-cfa0-444d-a455-732288cb4577",
   "metadata": {},
   "outputs": [
    {
     "data": {
      "text/plain": [
       "<function matplotlib.pyplot.show(close=None, block=None)>"
      ]
     },
     "execution_count": 36,
     "metadata": {},
     "output_type": "execute_result"
    },
    {
     "data": {
      "image/png": "[encoded data removed]",
      "text/plain": [
       "<Figure size 640x480 with 1 Axes>"
      ]
     },
     "metadata": {},
     "output_type": "display_data"
    }
   ],
   "source": [
    "df.boxplot()\n",
    "plt.show"
   ]
  },
  {
   "cell_type": "markdown",
   "id": "d9a65a05-bb6c-48ff-9a51-cf40b21776a9",
   "metadata": {},
   "source": [
    "## Scaling"
   ]
  },
  {
   "cell_type": "code",
   "execution_count": 39,
   "id": "fe1aa589-e764-4055-acbb-06a2d1f18aad",
   "metadata": {},
   "outputs": [],
   "source": [
    "from sklearn.preprocessing import MinMaxScaler"
   ]
  },
  {
   "cell_type": "code",
   "execution_count": 40,
   "id": "e4116cf9-7d5e-46dc-bba7-fa914927db16",
   "metadata": {},
   "outputs": [
    {
     "data": {
      "text/html": [
       "<div>\n",
       "<style scoped>\n",
       "    .dataframe tbody tr th:only-of-type {\n",
       "        vertical-align: middle;\n",
       "    }\n",
       "\n",
       "    .dataframe tbody tr th {\n",
       "        vertical-align: top;\n",
       "    }\n",
       "\n",
       "    .dataframe thead th {\n",
       "        text-align: right;\n",
       "    }\n",
       "</style>\n",
       "<table border=\"1\" class=\"dataframe\">\n",
       "  <thead>\n",
       "    <tr style=\"text-align: right;\">\n",
       "      <th></th>\n",
       "      <th>RHOB</th>\n",
       "      <th>GR</th>\n",
       "      <th>DEPTH_MD</th>\n",
       "      <th>NPHI</th>\n",
       "      <th>PEF</th>\n",
       "      <th>DTC</th>\n",
       "    </tr>\n",
       "  </thead>\n",
       "  <tbody>\n",
       "    <tr>\n",
       "      <th>0</th>\n",
       "      <td>0.314847</td>\n",
       "      <td>0.561250</td>\n",
       "      <td>0.000000</td>\n",
       "      <td>0.551910</td>\n",
       "      <td>1.000000</td>\n",
       "      <td>0.876716</td>\n",
       "    </tr>\n",
       "    <tr>\n",
       "      <th>1</th>\n",
       "      <td>0.318528</td>\n",
       "      <td>0.554137</td>\n",
       "      <td>0.000055</td>\n",
       "      <td>0.551910</td>\n",
       "      <td>1.000000</td>\n",
       "      <td>0.872327</td>\n",
       "    </tr>\n",
       "    <tr>\n",
       "      <th>2</th>\n",
       "      <td>0.322946</td>\n",
       "      <td>0.520460</td>\n",
       "      <td>0.000109</td>\n",
       "      <td>0.551910</td>\n",
       "      <td>1.000000</td>\n",
       "      <td>0.868752</td>\n",
       "    </tr>\n",
       "    <tr>\n",
       "      <th>3</th>\n",
       "      <td>0.319919</td>\n",
       "      <td>0.505724</td>\n",
       "      <td>0.000164</td>\n",
       "      <td>0.551910</td>\n",
       "      <td>1.000000</td>\n",
       "      <td>0.868550</td>\n",
       "    </tr>\n",
       "    <tr>\n",
       "      <th>4</th>\n",
       "      <td>0.312121</td>\n",
       "      <td>0.497005</td>\n",
       "      <td>0.000219</td>\n",
       "      <td>0.551910</td>\n",
       "      <td>1.000000</td>\n",
       "      <td>0.868375</td>\n",
       "    </tr>\n",
       "    <tr>\n",
       "      <th>...</th>\n",
       "      <td>...</td>\n",
       "      <td>...</td>\n",
       "      <td>...</td>\n",
       "      <td>...</td>\n",
       "      <td>...</td>\n",
       "      <td>...</td>\n",
       "    </tr>\n",
       "    <tr>\n",
       "      <th>18265</th>\n",
       "      <td>0.804586</td>\n",
       "      <td>0.100310</td>\n",
       "      <td>0.999781</td>\n",
       "      <td>0.109837</td>\n",
       "      <td>0.319385</td>\n",
       "      <td>0.711771</td>\n",
       "    </tr>\n",
       "    <tr>\n",
       "      <th>18266</th>\n",
       "      <td>0.813056</td>\n",
       "      <td>0.115670</td>\n",
       "      <td>0.999836</td>\n",
       "      <td>0.106045</td>\n",
       "      <td>0.319385</td>\n",
       "      <td>0.711771</td>\n",
       "    </tr>\n",
       "    <tr>\n",
       "      <th>18267</th>\n",
       "      <td>0.838124</td>\n",
       "      <td>0.124789</td>\n",
       "      <td>0.999891</td>\n",
       "      <td>0.089936</td>\n",
       "      <td>0.319385</td>\n",
       "      <td>0.711771</td>\n",
       "    </tr>\n",
       "    <tr>\n",
       "      <th>18268</th>\n",
       "      <td>0.875567</td>\n",
       "      <td>0.121807</td>\n",
       "      <td>0.999945</td>\n",
       "      <td>0.087466</td>\n",
       "      <td>0.319385</td>\n",
       "      <td>0.711771</td>\n",
       "    </tr>\n",
       "    <tr>\n",
       "      <th>18269</th>\n",
       "      <td>0.911400</td>\n",
       "      <td>0.103427</td>\n",
       "      <td>1.000000</td>\n",
       "      <td>0.090873</td>\n",
       "      <td>0.319385</td>\n",
       "      <td>0.711771</td>\n",
       "    </tr>\n",
       "  </tbody>\n",
       "</table>\n",
       "<p>18270 rows × 6 columns</p>\n",
       "</div>"
      ],
      "text/plain": [
       "           RHOB        GR  DEPTH_MD      NPHI       PEF       DTC\n",
       "0      0.314847  0.561250  0.000000  0.551910  1.000000  0.876716\n",
       "1      0.318528  0.554137  0.000055  0.551910  1.000000  0.872327\n",
       "2      0.322946  0.520460  0.000109  0.551910  1.000000  0.868752\n",
       "3      0.319919  0.505724  0.000164  0.551910  1.000000  0.868550\n",
       "4      0.312121  0.497005  0.000219  0.551910  1.000000  0.868375\n",
       "...         ...       ...       ...       ...       ...       ...\n",
       "18265  0.804586  0.100310  0.999781  0.109837  0.319385  0.711771\n",
       "18266  0.813056  0.115670  0.999836  0.106045  0.319385  0.711771\n",
       "18267  0.838124  0.124789  0.999891  0.089936  0.319385  0.711771\n",
       "18268  0.875567  0.121807  0.999945  0.087466  0.319385  0.711771\n",
       "18269  0.911400  0.103427  1.000000  0.090873  0.319385  0.711771\n",
       "\n",
       "[18270 rows x 6 columns]"
      ]
     },
     "execution_count": 40,
     "metadata": {},
     "output_type": "execute_result"
    }
   ],
   "source": [
    "min_scaler = MinMaxScaler()\n",
    "df[['RHOB','GR','DEPTH_MD','NPHI','PEF','DTC']] = min_scaler.fit_transform(df[['RHOB','GR','DEPTH_MD','NPHI','PEF','DTC']])\n",
    "df                                                "
   ]
  },
  {
   "cell_type": "markdown",
   "id": "7c79d587-feaa-4702-938f-fd03c1e16add",
   "metadata": {},
   "source": [
    "## K means Clustering"
   ]
  },
  {
   "cell_type": "code",
   "execution_count": 47,
   "id": "923c6d8e-04fb-4280-acff-92f3b0ea7be4",
   "metadata": {},
   "outputs": [],
   "source": [
    "import numpy as np\n",
    "import seaborn as sns"
   ]
  },
  {
   "cell_type": "code",
   "execution_count": 49,
   "id": "c8dcb56b-c66e-466e-bc95-c7d157fb314d",
   "metadata": {},
   "outputs": [],
   "source": [
    "from sklearn.cluster import KMeans"
   ]
  },
  {
   "cell_type": "code",
   "execution_count": 61,
   "id": "140d83f5-1c75-44e8-b984-d6ce345f7a81",
   "metadata": {},
   "outputs": [
    {
     "data": {
      "text/html": [
       "<div>\n",
       "<style scoped>\n",
       "    .dataframe tbody tr th:only-of-type {\n",
       "        vertical-align: middle;\n",
       "    }\n",
       "\n",
       "    .dataframe tbody tr th {\n",
       "        vertical-align: top;\n",
       "    }\n",
       "\n",
       "    .dataframe thead th {\n",
       "        text-align: right;\n",
       "    }\n",
       "</style>\n",
       "<table border=\"1\" class=\"dataframe\">\n",
       "  <thead>\n",
       "    <tr style=\"text-align: right;\">\n",
       "      <th></th>\n",
       "      <th>RHOB</th>\n",
       "      <th>DTC</th>\n",
       "    </tr>\n",
       "  </thead>\n",
       "  <tbody>\n",
       "    <tr>\n",
       "      <th>0</th>\n",
       "      <td>0.314847</td>\n",
       "      <td>0.876716</td>\n",
       "    </tr>\n",
       "    <tr>\n",
       "      <th>1</th>\n",
       "      <td>0.318528</td>\n",
       "      <td>0.872327</td>\n",
       "    </tr>\n",
       "    <tr>\n",
       "      <th>2</th>\n",
       "      <td>0.322946</td>\n",
       "      <td>0.868752</td>\n",
       "    </tr>\n",
       "    <tr>\n",
       "      <th>3</th>\n",
       "      <td>0.319919</td>\n",
       "      <td>0.868550</td>\n",
       "    </tr>\n",
       "    <tr>\n",
       "      <th>4</th>\n",
       "      <td>0.312121</td>\n",
       "      <td>0.868375</td>\n",
       "    </tr>\n",
       "    <tr>\n",
       "      <th>...</th>\n",
       "      <td>...</td>\n",
       "      <td>...</td>\n",
       "    </tr>\n",
       "    <tr>\n",
       "      <th>18265</th>\n",
       "      <td>0.804586</td>\n",
       "      <td>0.711771</td>\n",
       "    </tr>\n",
       "    <tr>\n",
       "      <th>18266</th>\n",
       "      <td>0.813056</td>\n",
       "      <td>0.711771</td>\n",
       "    </tr>\n",
       "    <tr>\n",
       "      <th>18267</th>\n",
       "      <td>0.838124</td>\n",
       "      <td>0.711771</td>\n",
       "    </tr>\n",
       "    <tr>\n",
       "      <th>18268</th>\n",
       "      <td>0.875567</td>\n",
       "      <td>0.711771</td>\n",
       "    </tr>\n",
       "    <tr>\n",
       "      <th>18269</th>\n",
       "      <td>0.911400</td>\n",
       "      <td>0.711771</td>\n",
       "    </tr>\n",
       "  </tbody>\n",
       "</table>\n",
       "<p>18270 rows × 2 columns</p>\n",
       "</div>"
      ],
      "text/plain": [
       "           RHOB       DTC\n",
       "0      0.314847  0.876716\n",
       "1      0.318528  0.872327\n",
       "2      0.322946  0.868752\n",
       "3      0.319919  0.868550\n",
       "4      0.312121  0.868375\n",
       "...         ...       ...\n",
       "18265  0.804586  0.711771\n",
       "18266  0.813056  0.711771\n",
       "18267  0.838124  0.711771\n",
       "18268  0.875567  0.711771\n",
       "18269  0.911400  0.711771\n",
       "\n",
       "[18270 rows x 2 columns]"
      ]
     },
     "execution_count": 61,
     "metadata": {},
     "output_type": "execute_result"
    }
   ],
   "source": [
    "X = df[['RHOB','DTC']]\n",
    "X"
   ]
  },
  {
   "cell_type": "code",
   "execution_count": 63,
   "id": "4714b0ca-13f8-4b17-8bd6-21ecce6b4fd5",
   "metadata": {},
   "outputs": [],
   "source": [
    "wcss = []\n",
    "for i in range(1,11):\n",
    "  kmeans = KMeans(n_clusters = i, init = 'k-means++',\n",
    "                  max_iter=300, n_init=10, random_state=0)\n",
    "  kmeans.fit(X)\n",
    "  wcss.append(kmeans.inertia_)"
   ]
  },
  {
   "cell_type": "code",
   "execution_count": 65,
   "id": "7ee1c05a-63be-4bef-93ff-bfcb69322203",
   "metadata": {},
   "outputs": [
    {
     "data": {
      "image/png": "[encoded data removed]",
      "text/plain": [
       "<Figure size 1000x600 with 1 Axes>"
      ]
     },
     "metadata": {},
     "output_type": "display_data"
    }
   ],
   "source": [
    "# plotting the elbow method\n",
    "plt.figure(figsize = (10,6))\n",
    "plt.plot(range(1,11), wcss,marker = 'o')\n",
    "plt.title('Elbow Method')\n",
    "plt.xlabel('Number of Clusters')\n",
    "plt.ylabel('WCSS')\n",
    "plt.show()"
   ]
  },
  {
   "cell_type": "code",
   "execution_count": 67,
   "id": "f89003e7-0297-417b-9086-c63974d48489",
   "metadata": {},
   "outputs": [],
   "source": [
    "# applying k means clustering with optimal number of clusters\n",
    "kmeans = KMeans(n_clusters = 4, init = 'k-means++',\n",
    "                max_iter = 300, n_init = 10, random_state = 0)\n",
    "\n",
    "y_kmeans = kmeans.fit_predict(X)"
   ]
  },
  {
   "cell_type": "code",
   "execution_count": 73,
   "id": "47e7f971-9272-4fe3-8422-f33d39e62cf9",
   "metadata": {},
   "outputs": [
    {
     "data": {
      "text/html": [
       "<div>\n",
       "<style scoped>\n",
       "    .dataframe tbody tr th:only-of-type {\n",
       "        vertical-align: middle;\n",
       "    }\n",
       "\n",
       "    .dataframe tbody tr th {\n",
       "        vertical-align: top;\n",
       "    }\n",
       "\n",
       "    .dataframe thead th {\n",
       "        text-align: right;\n",
       "    }\n",
       "</style>\n",
       "<table border=\"1\" class=\"dataframe\">\n",
       "  <thead>\n",
       "    <tr style=\"text-align: right;\">\n",
       "      <th></th>\n",
       "      <th>RHOB</th>\n",
       "      <th>GR</th>\n",
       "      <th>DEPTH_MD</th>\n",
       "      <th>NPHI</th>\n",
       "      <th>PEF</th>\n",
       "      <th>DTC</th>\n",
       "      <th>Cluster</th>\n",
       "    </tr>\n",
       "  </thead>\n",
       "  <tbody>\n",
       "    <tr>\n",
       "      <th>0</th>\n",
       "      <td>0.314847</td>\n",
       "      <td>0.561250</td>\n",
       "      <td>0.000000</td>\n",
       "      <td>0.551910</td>\n",
       "      <td>1.000000</td>\n",
       "      <td>0.876716</td>\n",
       "      <td>1</td>\n",
       "    </tr>\n",
       "    <tr>\n",
       "      <th>1</th>\n",
       "      <td>0.318528</td>\n",
       "      <td>0.554137</td>\n",
       "      <td>0.000055</td>\n",
       "      <td>0.551910</td>\n",
       "      <td>1.000000</td>\n",
       "      <td>0.872327</td>\n",
       "      <td>1</td>\n",
       "    </tr>\n",
       "    <tr>\n",
       "      <th>2</th>\n",
       "      <td>0.322946</td>\n",
       "      <td>0.520460</td>\n",
       "      <td>0.000109</td>\n",
       "      <td>0.551910</td>\n",
       "      <td>1.000000</td>\n",
       "      <td>0.868752</td>\n",
       "      <td>1</td>\n",
       "    </tr>\n",
       "    <tr>\n",
       "      <th>3</th>\n",
       "      <td>0.319919</td>\n",
       "      <td>0.505724</td>\n",
       "      <td>0.000164</td>\n",
       "      <td>0.551910</td>\n",
       "      <td>1.000000</td>\n",
       "      <td>0.868550</td>\n",
       "      <td>1</td>\n",
       "    </tr>\n",
       "    <tr>\n",
       "      <th>4</th>\n",
       "      <td>0.312121</td>\n",
       "      <td>0.497005</td>\n",
       "      <td>0.000219</td>\n",
       "      <td>0.551910</td>\n",
       "      <td>1.000000</td>\n",
       "      <td>0.868375</td>\n",
       "      <td>1</td>\n",
       "    </tr>\n",
       "    <tr>\n",
       "      <th>...</th>\n",
       "      <td>...</td>\n",
       "      <td>...</td>\n",
       "      <td>...</td>\n",
       "      <td>...</td>\n",
       "      <td>...</td>\n",
       "      <td>...</td>\n",
       "      <td>...</td>\n",
       "    </tr>\n",
       "    <tr>\n",
       "      <th>18265</th>\n",
       "      <td>0.804586</td>\n",
       "      <td>0.100310</td>\n",
       "      <td>0.999781</td>\n",
       "      <td>0.109837</td>\n",
       "      <td>0.319385</td>\n",
       "      <td>0.711771</td>\n",
       "      <td>3</td>\n",
       "    </tr>\n",
       "    <tr>\n",
       "      <th>18266</th>\n",
       "      <td>0.813056</td>\n",
       "      <td>0.115670</td>\n",
       "      <td>0.999836</td>\n",
       "      <td>0.106045</td>\n",
       "      <td>0.319385</td>\n",
       "      <td>0.711771</td>\n",
       "      <td>3</td>\n",
       "    </tr>\n",
       "    <tr>\n",
       "      <th>18267</th>\n",
       "      <td>0.838124</td>\n",
       "      <td>0.124789</td>\n",
       "      <td>0.999891</td>\n",
       "      <td>0.089936</td>\n",
       "      <td>0.319385</td>\n",
       "      <td>0.711771</td>\n",
       "      <td>3</td>\n",
       "    </tr>\n",
       "    <tr>\n",
       "      <th>18268</th>\n",
       "      <td>0.875567</td>\n",
       "      <td>0.121807</td>\n",
       "      <td>0.999945</td>\n",
       "      <td>0.087466</td>\n",
       "      <td>0.319385</td>\n",
       "      <td>0.711771</td>\n",
       "      <td>3</td>\n",
       "    </tr>\n",
       "    <tr>\n",
       "      <th>18269</th>\n",
       "      <td>0.911400</td>\n",
       "      <td>0.103427</td>\n",
       "      <td>1.000000</td>\n",
       "      <td>0.090873</td>\n",
       "      <td>0.319385</td>\n",
       "      <td>0.711771</td>\n",
       "      <td>3</td>\n",
       "    </tr>\n",
       "  </tbody>\n",
       "</table>\n",
       "<p>18270 rows × 7 columns</p>\n",
       "</div>"
      ],
      "text/plain": [
       "           RHOB        GR  DEPTH_MD      NPHI       PEF       DTC  Cluster\n",
       "0      0.314847  0.561250  0.000000  0.551910  1.000000  0.876716        1\n",
       "1      0.318528  0.554137  0.000055  0.551910  1.000000  0.872327        1\n",
       "2      0.322946  0.520460  0.000109  0.551910  1.000000  0.868752        1\n",
       "3      0.319919  0.505724  0.000164  0.551910  1.000000  0.868550        1\n",
       "4      0.312121  0.497005  0.000219  0.551910  1.000000  0.868375        1\n",
       "...         ...       ...       ...       ...       ...       ...      ...\n",
       "18265  0.804586  0.100310  0.999781  0.109837  0.319385  0.711771        3\n",
       "18266  0.813056  0.115670  0.999836  0.106045  0.319385  0.711771        3\n",
       "18267  0.838124  0.124789  0.999891  0.089936  0.319385  0.711771        3\n",
       "18268  0.875567  0.121807  0.999945  0.087466  0.319385  0.711771        3\n",
       "18269  0.911400  0.103427  1.000000  0.090873  0.319385  0.711771        3\n",
       "\n",
       "[18270 rows x 7 columns]"
      ]
     },
     "execution_count": 73,
     "metadata": {},
     "output_type": "execute_result"
    }
   ],
   "source": [
    "# Adding cluster labels to the dataset\n",
    "df['Cluster'] = y_kmeans\n",
    "df"
   ]
  },
  {
   "cell_type": "code",
   "execution_count": 77,
   "id": "0230bfed-a088-4cf8-b34f-d18f343e14bd",
   "metadata": {},
   "outputs": [
    {
     "data": {
      "image/png": "[encoded data removed]",
      "text/plain": [
       "<Figure size 640x480 with 1 Axes>"
      ]
     },
     "metadata": {},
     "output_type": "display_data"
    }
   ],
   "source": [
    "# assigning custom colors to clusters\n",
    "colors = ['r','g','b','y','m']\n",
    "\n",
    "for i in range(5):\n",
    "  cluster_data = X[y_kmeans ==i]\n",
    "  plt.scatter(cluster_data['RHOB'],\n",
    "              cluster_data['DTC'],\n",
    "              c=colors[i],\n",
    "              label = f'Cluster{i}')\n",
    "  plt.legend()"
   ]
  },
  {
   "cell_type": "code",
   "execution_count": 79,
   "id": "8dcdc7d1-8534-4e54-b031-8c4da8cff8ea",
   "metadata": {},
   "outputs": [],
   "source": [
    "# function to predict cluster for a new fish\n",
    "def predict_cluster(RHOB,DTC):\n",
    "  new_data = [[RHOB,DTC]]\n",
    "  cluster = kmeans.predict(new_data)\n",
    "  return cluster[0]"
   ]
  },
  {
   "cell_type": "code",
   "execution_count": 81,
   "id": "1230632b-de29-4d8b-8e4f-26a50311d825",
   "metadata": {},
   "outputs": [
    {
     "name": "stdout",
     "output_type": "stream",
     "text": [
      "0.578047327514929\n"
     ]
    }
   ],
   "source": [
    "from sklearn.metrics import silhouette_score\n",
    "  #Silhouette score of kmeans clustering\n",
    "silhouette_avg1 = silhouette_score(X, y_kmeans)\n",
    "print(silhouette_avg1)"
   ]
  },
  {
   "cell_type": "code",
   "execution_count": 90,
   "id": "ee2114b9-57a9-4d85-89d6-d302a94a7e00",
   "metadata": {},
   "outputs": [],
   "source": [
    "# applying k means clustering with optimal number of clusters\n",
    "kmeans = KMeans(n_clusters = 2, init = 'k-means++',\n",
    "                max_iter = 300, n_init = 10, random_state = 0)\n",
    "\n",
    "y_kmeans = kmeans.fit_predict(X)"
   ]
  },
  {
   "cell_type": "code",
   "execution_count": 91,
   "id": "6d988de7-06c9-4183-a6d1-a481c889bea7",
   "metadata": {},
   "outputs": [
    {
     "data": {
      "text/html": [
       "<div>\n",
       "<style scoped>\n",
       "    .dataframe tbody tr th:only-of-type {\n",
       "        vertical-align: middle;\n",
       "    }\n",
       "\n",
       "    .dataframe tbody tr th {\n",
       "        vertical-align: top;\n",
       "    }\n",
       "\n",
       "    .dataframe thead th {\n",
       "        text-align: right;\n",
       "    }\n",
       "</style>\n",
       "<table border=\"1\" class=\"dataframe\">\n",
       "  <thead>\n",
       "    <tr style=\"text-align: right;\">\n",
       "      <th></th>\n",
       "      <th>RHOB</th>\n",
       "      <th>GR</th>\n",
       "      <th>DEPTH_MD</th>\n",
       "      <th>NPHI</th>\n",
       "      <th>PEF</th>\n",
       "      <th>DTC</th>\n",
       "      <th>Cluster</th>\n",
       "    </tr>\n",
       "  </thead>\n",
       "  <tbody>\n",
       "    <tr>\n",
       "      <th>0</th>\n",
       "      <td>0.314847</td>\n",
       "      <td>0.561250</td>\n",
       "      <td>0.000000</td>\n",
       "      <td>0.551910</td>\n",
       "      <td>1.000000</td>\n",
       "      <td>0.876716</td>\n",
       "      <td>0</td>\n",
       "    </tr>\n",
       "    <tr>\n",
       "      <th>1</th>\n",
       "      <td>0.318528</td>\n",
       "      <td>0.554137</td>\n",
       "      <td>0.000055</td>\n",
       "      <td>0.551910</td>\n",
       "      <td>1.000000</td>\n",
       "      <td>0.872327</td>\n",
       "      <td>0</td>\n",
       "    </tr>\n",
       "    <tr>\n",
       "      <th>2</th>\n",
       "      <td>0.322946</td>\n",
       "      <td>0.520460</td>\n",
       "      <td>0.000109</td>\n",
       "      <td>0.551910</td>\n",
       "      <td>1.000000</td>\n",
       "      <td>0.868752</td>\n",
       "      <td>0</td>\n",
       "    </tr>\n",
       "    <tr>\n",
       "      <th>3</th>\n",
       "      <td>0.319919</td>\n",
       "      <td>0.505724</td>\n",
       "      <td>0.000164</td>\n",
       "      <td>0.551910</td>\n",
       "      <td>1.000000</td>\n",
       "      <td>0.868550</td>\n",
       "      <td>0</td>\n",
       "    </tr>\n",
       "    <tr>\n",
       "      <th>4</th>\n",
       "      <td>0.312121</td>\n",
       "      <td>0.497005</td>\n",
       "      <td>0.000219</td>\n",
       "      <td>0.551910</td>\n",
       "      <td>1.000000</td>\n",
       "      <td>0.868375</td>\n",
       "      <td>0</td>\n",
       "    </tr>\n",
       "    <tr>\n",
       "      <th>...</th>\n",
       "      <td>...</td>\n",
       "      <td>...</td>\n",
       "      <td>...</td>\n",
       "      <td>...</td>\n",
       "      <td>...</td>\n",
       "      <td>...</td>\n",
       "      <td>...</td>\n",
       "    </tr>\n",
       "    <tr>\n",
       "      <th>18265</th>\n",
       "      <td>0.804586</td>\n",
       "      <td>0.100310</td>\n",
       "      <td>0.999781</td>\n",
       "      <td>0.109837</td>\n",
       "      <td>0.319385</td>\n",
       "      <td>0.711771</td>\n",
       "      <td>0</td>\n",
       "    </tr>\n",
       "    <tr>\n",
       "      <th>18266</th>\n",
       "      <td>0.813056</td>\n",
       "      <td>0.115670</td>\n",
       "      <td>0.999836</td>\n",
       "      <td>0.106045</td>\n",
       "      <td>0.319385</td>\n",
       "      <td>0.711771</td>\n",
       "      <td>0</td>\n",
       "    </tr>\n",
       "    <tr>\n",
       "      <th>18267</th>\n",
       "      <td>0.838124</td>\n",
       "      <td>0.124789</td>\n",
       "      <td>0.999891</td>\n",
       "      <td>0.089936</td>\n",
       "      <td>0.319385</td>\n",
       "      <td>0.711771</td>\n",
       "      <td>0</td>\n",
       "    </tr>\n",
       "    <tr>\n",
       "      <th>18268</th>\n",
       "      <td>0.875567</td>\n",
       "      <td>0.121807</td>\n",
       "      <td>0.999945</td>\n",
       "      <td>0.087466</td>\n",
       "      <td>0.319385</td>\n",
       "      <td>0.711771</td>\n",
       "      <td>1</td>\n",
       "    </tr>\n",
       "    <tr>\n",
       "      <th>18269</th>\n",
       "      <td>0.911400</td>\n",
       "      <td>0.103427</td>\n",
       "      <td>1.000000</td>\n",
       "      <td>0.090873</td>\n",
       "      <td>0.319385</td>\n",
       "      <td>0.711771</td>\n",
       "      <td>1</td>\n",
       "    </tr>\n",
       "  </tbody>\n",
       "</table>\n",
       "<p>18270 rows × 7 columns</p>\n",
       "</div>"
      ],
      "text/plain": [
       "           RHOB        GR  DEPTH_MD      NPHI       PEF       DTC  Cluster\n",
       "0      0.314847  0.561250  0.000000  0.551910  1.000000  0.876716        0\n",
       "1      0.318528  0.554137  0.000055  0.551910  1.000000  0.872327        0\n",
       "2      0.322946  0.520460  0.000109  0.551910  1.000000  0.868752        0\n",
       "3      0.319919  0.505724  0.000164  0.551910  1.000000  0.868550        0\n",
       "4      0.312121  0.497005  0.000219  0.551910  1.000000  0.868375        0\n",
       "...         ...       ...       ...       ...       ...       ...      ...\n",
       "18265  0.804586  0.100310  0.999781  0.109837  0.319385  0.711771        0\n",
       "18266  0.813056  0.115670  0.999836  0.106045  0.319385  0.711771        0\n",
       "18267  0.838124  0.124789  0.999891  0.089936  0.319385  0.711771        0\n",
       "18268  0.875567  0.121807  0.999945  0.087466  0.319385  0.711771        1\n",
       "18269  0.911400  0.103427  1.000000  0.090873  0.319385  0.711771        1\n",
       "\n",
       "[18270 rows x 7 columns]"
      ]
     },
     "execution_count": 91,
     "metadata": {},
     "output_type": "execute_result"
    }
   ],
   "source": [
    "# Adding cluster labels to the dataset\n",
    "df['Cluster'] = y_kmeans\n",
    "df"
   ]
  },
  {
   "cell_type": "code",
   "execution_count": 92,
   "id": "4032ecba-a9fd-4585-9774-64ad65a01220",
   "metadata": {},
   "outputs": [
    {
     "data": {
      "image/png": "[encoded data removed]",
      "text/plain": [
       "<Figure size 640x480 with 1 Axes>"
      ]
     },
     "metadata": {},
     "output_type": "display_data"
    }
   ],
   "source": [
    "# assigning custom colors to clusters\n",
    "colors = ['r','g','b','y','m']\n",
    "\n",
    "for i in range(5):\n",
    "  cluster_data = X[y_kmeans ==i]\n",
    "  plt.scatter(cluster_data['RHOB'],\n",
    "              cluster_data['DTC'],\n",
    "              c=colors[i],\n",
    "              label = f'Cluster{i}')\n",
    "  plt.legend()"
   ]
  },
  {
   "cell_type": "code",
   "execution_count": 93,
   "id": "758f61ac-a367-4fac-aa52-3a2507e6721b",
   "metadata": {},
   "outputs": [],
   "source": [
    "# function to predict cluster for a new fish\n",
    "def predict_cluster(RHOB,DTC):\n",
    "  new_data = [[RHOB,DTC]]\n",
    "  cluster = kmeans.predict(new_data)\n",
    "  return cluster[0]"
   ]
  },
  {
   "cell_type": "code",
   "execution_count": 94,
   "id": "e46c3cc7-d140-4c32-baeb-fe86e4a4bac4",
   "metadata": {},
   "outputs": [
    {
     "name": "stdout",
     "output_type": "stream",
     "text": [
      "0.6921393949422586\n"
     ]
    }
   ],
   "source": [
    "from sklearn.metrics import silhouette_score\n",
    "  #Silhouette score of kmeans clustering\n",
    "silhouette_avg1 = silhouette_score(X, y_kmeans)\n",
    "print(silhouette_avg1)"
   ]
  },
  {
   "cell_type": "code",
   "execution_count": null,
   "id": "13558913-affb-4a26-9a70-80897d07d3e2",
   "metadata": {},
   "outputs": [],
   "source": []
  },
  {
   "cell_type": "code",
   "execution_count": null,
   "id": "550f12bc-aa15-4a7d-8277-98b48cdcd163",
   "metadata": {},
   "outputs": [],
   "source": []
  },
  {
   "cell_type": "code",
   "execution_count": null,
   "id": "b7aec210-86e7-4447-b9b9-e32b7ef1a756",
   "metadata": {},
   "outputs": [],
   "source": []
  },
  {
   "cell_type": "code",
   "execution_count": null,
   "id": "775cc1fa-1c10-4cfa-b1ad-16c82122d641",
   "metadata": {},
   "outputs": [],
   "source": []
  },
  {
   "cell_type": "code",
   "execution_count": null,
   "id": "68022bc8-96e3-43f6-b270-6c59ec694a9b",
   "metadata": {},
   "outputs": [],
   "source": []
  },
  {
   "cell_type": "code",
   "execution_count": null,
   "id": "8f9d6f1a-15d4-453c-a7f5-857c0a0a1bc8",
   "metadata": {},
   "outputs": [],
   "source": []
  }
 ],
 "metadata": {
  "kernelspec": {
   "display_name": "Python 3 (ipykernel)",
   "language": "python",
   "name": "python3"
  },
  "language_info": {
   "codemirror_mode": {
    "name": "ipython",
    "version": 3
   },
   "file_extension": ".py",
   "mimetype": "text/x-python",
   "name": "python",
   "nbconvert_exporter": "python",
   "pygments_lexer": "ipython3",
   "version": "3.12.7"
  }
 },
 "nbformat": 4,
 "nbformat_minor": 5
}
